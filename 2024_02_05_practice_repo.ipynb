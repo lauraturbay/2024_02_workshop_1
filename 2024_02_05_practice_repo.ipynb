{
 "cells": [
  {
   "cell_type": "code",
   "execution_count": 1,
   "id": "c097f862",
   "metadata": {},
   "outputs": [],
   "source": [
    "chicago_murders=762\n",
    "los_angeles_murders=294\n",
    "nyc_murders=334\n",
    "san_jose_murders=47\n"
   ]
  },
  {
   "cell_type": "code",
   "execution_count": 2,
   "id": "456429ae",
   "metadata": {},
   "outputs": [],
   "source": [
    "chicago_p,los_angeles_p, nyc_p, san_jose_p = 2_705_000, 3_976_000, 8_538_000, 1_025_000"
   ]
  },
  {
   "cell_type": "code",
   "execution_count": 3,
   "id": "86d85121",
   "metadata": {},
   "outputs": [
    {
     "data": {
      "text/plain": [
       "762"
      ]
     },
     "execution_count": 3,
     "metadata": {},
     "output_type": "execute_result"
    }
   ],
   "source": [
    "chicago_murders"
   ]
  },
  {
   "cell_type": "code",
   "execution_count": 10,
   "id": "e5f877b4",
   "metadata": {},
   "outputs": [],
   "source": [
    "rate_murders_chicago = (chicago_murders/chicago_p)*100_000"
   ]
  },
  {
   "cell_type": "code",
   "execution_count": 11,
   "id": "6ddca756",
   "metadata": {},
   "outputs": [
    {
     "data": {
      "text/plain": [
       "28.170055452865068"
      ]
     },
     "execution_count": 11,
     "metadata": {},
     "output_type": "execute_result"
    }
   ],
   "source": [
    "rate_murders_chicago"
   ]
  },
  {
   "cell_type": "code",
   "execution_count": 12,
   "id": "6efa2552",
   "metadata": {},
   "outputs": [],
   "source": [
    "rate_murders_la= (los_angeles_murders/los_angeles_p)*100_000"
   ]
  },
  {
   "cell_type": "code",
   "execution_count": 13,
   "id": "6866d01a",
   "metadata": {},
   "outputs": [
    {
     "data": {
      "text/plain": [
       "7.394366197183098"
      ]
     },
     "execution_count": 13,
     "metadata": {},
     "output_type": "execute_result"
    }
   ],
   "source": [
    "rate_murders_la"
   ]
  },
  {
   "cell_type": "code",
   "execution_count": 14,
   "id": "10c7997c",
   "metadata": {},
   "outputs": [],
   "source": [
    "rate_murders_nyc= (nyc_murders/nyc_p)*100_000"
   ]
  },
  {
   "cell_type": "code",
   "execution_count": 15,
   "id": "2e7e872f",
   "metadata": {},
   "outputs": [
    {
     "data": {
      "text/plain": [
       "3.911923167018037"
      ]
     },
     "execution_count": 15,
     "metadata": {},
     "output_type": "execute_result"
    }
   ],
   "source": [
    "rate_murders_nyc"
   ]
  },
  {
   "cell_type": "code",
   "execution_count": 17,
   "id": "fe9f7ce8",
   "metadata": {},
   "outputs": [],
   "source": [
    "rate_murders_san_jose= (san_jose_murders/san_jose_p)*100_000"
   ]
  },
  {
   "cell_type": "code",
   "execution_count": 18,
   "id": "e0ac9f1c",
   "metadata": {},
   "outputs": [
    {
     "data": {
      "text/plain": [
       "4.585365853658536"
      ]
     },
     "execution_count": 18,
     "metadata": {},
     "output_type": "execute_result"
    }
   ],
   "source": [
    "rate_murders_san_jose"
   ]
  },
  {
   "cell_type": "code",
   "execution_count": 24,
   "id": "720f67b3",
   "metadata": {},
   "outputs": [
    {
     "name": "stdout",
     "output_type": "stream",
     "text": [
      "New York City has the lowest murder rate per 100K at 3.911923167018037, while Los Angeles has murder rate of 28.170055452865068\n"
     ]
    }
   ],
   "source": [
    "print(f\"New York City has the lowest murder rate per 100K at {rate_murders_nyc}, while Los Angeles has murder rate of {rate_murders_chicago}\")"
   ]
  },
  {
   "cell_type": "code",
   "execution_count": 23,
   "id": "cbaffb35",
   "metadata": {},
   "outputs": [
    {
     "data": {
      "text/plain": [
       "(28.170055452865068, 7.394366197183098)"
      ]
     },
     "execution_count": 23,
     "metadata": {},
     "output_type": "execute_result"
    }
   ],
   "source": [
    "rate_murders_chicago, rate_murders_la"
   ]
  },
  {
   "cell_type": "raw",
   "id": "260edb3f",
   "metadata": {},
   "source": []
  }
 ],
 "metadata": {
  "kernelspec": {
   "display_name": "Python 3 (ipykernel)",
   "language": "python",
   "name": "python3"
  },
  "language_info": {
   "codemirror_mode": {
    "name": "ipython",
    "version": 3
   },
   "file_extension": ".py",
   "mimetype": "text/x-python",
   "name": "python",
   "nbconvert_exporter": "python",
   "pygments_lexer": "ipython3",
   "version": "3.11.5"
  }
 },
 "nbformat": 4,
 "nbformat_minor": 5
}
