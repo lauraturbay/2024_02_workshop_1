{
 "cells": [
  {
   "cell_type": "code",
   "execution_count": 1,
   "id": "fd7fe513",
   "metadata": {},
   "outputs": [],
   "source": [
    "chicago_murders=762\n",
    "los_angeles_murders=294\n",
    "nyc_murders=334\n",
    "san_jose_murders=47\n"
   ]
  },
  {
   "cell_type": "code",
   "execution_count": 2,
   "id": "80af2e81",
   "metadata": {},
   "outputs": [],
   "source": [
    "chicago_p,los_angeles_p, nyc_p, san_jose_p = 2_705_000, 3_976_000, 8_538_000, 1_025_000"
   ]
  },
  {
   "cell_type": "code",
   "execution_count": 3,
   "id": "33bc70a7",
   "metadata": {},
   "outputs": [
    {
     "data": {
      "text/plain": [
       "762"
      ]
     },
     "execution_count": 3,
     "metadata": {},
     "output_type": "execute_result"
    }
   ],
   "source": [
    "chicago_murders"
   ]
  },
  {
   "cell_type": "code",
   "execution_count": 10,
   "id": "5e9025b0",
   "metadata": {},
   "outputs": [],
   "source": [
    "rate_murders_chicago = (chicago_murders/chicago_p)*100_000"
   ]
  },
  {
   "cell_type": "code",
   "execution_count": 11,
   "id": "c1370489",
   "metadata": {},
   "outputs": [
    {
     "data": {
      "text/plain": [
       "28.170055452865068"
      ]
     },
     "execution_count": 11,
     "metadata": {},
     "output_type": "execute_result"
    }
   ],
   "source": [
    "rate_murders_chicago"
   ]
  },
  {
   "cell_type": "code",
   "execution_count": 12,
   "id": "a5b01884",
   "metadata": {},
   "outputs": [],
   "source": [
    "rate_murders_la= (los_angeles_murders/los_angeles_p)*100_000"
   ]
  },
  {
   "cell_type": "code",
   "execution_count": 13,
   "id": "9c29696a",
   "metadata": {},
   "outputs": [
    {
     "data": {
      "text/plain": [
       "7.394366197183098"
      ]
     },
     "execution_count": 13,
     "metadata": {},
     "output_type": "execute_result"
    }
   ],
   "source": [
    "rate_murders_la"
   ]
  },
  {
   "cell_type": "code",
   "execution_count": 14,
   "id": "6b53d8d3",
   "metadata": {},
   "outputs": [],
   "source": [
    "rate_murders_nyc= (nyc_murders/nyc_p)*100_000"
   ]
  },
  {
   "cell_type": "code",
   "execution_count": 15,
   "id": "5beef945",
   "metadata": {},
   "outputs": [
    {
     "data": {
      "text/plain": [
       "3.911923167018037"
      ]
     },
     "execution_count": 15,
     "metadata": {},
     "output_type": "execute_result"
    }
   ],
   "source": [
    "rate_murders_nyc"
   ]
  },
  {
   "cell_type": "code",
   "execution_count": 17,
   "id": "d0113397",
   "metadata": {},
   "outputs": [],
   "source": [
    "rate_murders_san_jose= (san_jose_murders/san_jose_p)*100_000"
   ]
  },
  {
   "cell_type": "code",
   "execution_count": 18,
   "id": "b4e62f30",
   "metadata": {},
   "outputs": [
    {
     "data": {
      "text/plain": [
       "4.585365853658536"
      ]
     },
     "execution_count": 18,
     "metadata": {},
     "output_type": "execute_result"
    }
   ],
   "source": [
    "rate_murders_san_jose"
   ]
  },
  {
   "cell_type": "code",
   "execution_count": 22,
   "id": "1385fd86",
   "metadata": {},
   "outputs": [
    {
     "name": "stdout",
     "output_type": "stream",
     "text": [
      "New York City has the lowest murder rate per 100K at 3.911923167018037, while Los Angeles has murder rate of 7.394366197183098\n"
     ]
    }
   ],
   "source": [
    "print(f\"New York City has the lowest murder rate per 100K at {rate_murders_nyc}, while Los Angeles has murder rate of {rate_murders_la}\")"
   ]
  }
 ],
 "metadata": {
  "kernelspec": {
   "display_name": "Python 3 (ipykernel)",
   "language": "python",
   "name": "python3"
  },
  "language_info": {
   "codemirror_mode": {
    "name": "ipython",
    "version": 3
   },
   "file_extension": ".py",
   "mimetype": "text/x-python",
   "name": "python",
   "nbconvert_exporter": "python",
   "pygments_lexer": "ipython3",
   "version": "3.11.5"
  }
 },
 "nbformat": 4,
 "nbformat_minor": 5
}
